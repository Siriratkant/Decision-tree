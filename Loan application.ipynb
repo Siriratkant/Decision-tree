{
 "cells": [
  {
   "cell_type": "markdown",
   "metadata": {},
   "source": [
    "# Decision tree with Loan application "
   ]
  },
  {
   "cell_type": "markdown",
   "metadata": {},
   "source": [
    "สมมติว่าเราเป็นผู้พิจาณาสินเชื่อของธนาคารแห่งหนึ่ง ในแต่ละวันจำเป็นที่ต้องพิจาณาลูกค้าที่มาขอกู้จำนวนมาก ดังนั้นเราจึงได้นำ mcahine learning เข้ามาปรับใช้เพื่อให้งานง่ายและรวดเร็วมากขึ้น ซึ่งตอนนี้เราได้มีข้อมูลอยู่ทั้งหมด 9 ชุด (N=9) และ algorithm ที่เราเลือกใช้คือ decision tree เนื่องจากข้อมูลของเรามีลักษณะคล้าย if else คือ หากเขาเป็นคน Credit ดี และยังมีรายได้ที่สูง เขาก็ควรที่จะได้รับการกู้ "
   ]
  },
  {
   "cell_type": "markdown",
   "metadata": {},
   "source": [
    "## 1.ขั้นตอนการเตรียมข้อมูล"
   ]
  },
  {
   "cell_type": "markdown",
   "metadata": {},
   "source": [
    "#### 1.1 เราจะต้องเรียก library ที่สำคัญในการเตียมข้อมูล "
   ]
  },
  {
   "cell_type": "code",
   "execution_count": 1,
   "metadata": {},
   "outputs": [],
   "source": [
    "import pandas as pd\n",
    "import numpy as np\n",
    "import matplotlib.pyplot as plt\n",
    "import seaborn as sns"
   ]
  },
  {
   "cell_type": "markdown",
   "metadata": {},
   "source": [
    "#### 1.2 เรียกไฟล์ข้อมูลที่เราต้องการประมาณการ (ในที่นี้เรานำข้อมูลใส่ไว้ใน github แล้ว เพื่อๆกด run ตามคำสั่งด้านล่างได้เลย)"
   ]
  },
  {
   "cell_type": "code",
   "execution_count": 2,
   "metadata": {
    "scrolled": true
   },
   "outputs": [
    {
     "data": {
      "text/html": [
       "<div>\n",
       "<style scoped>\n",
       "    .dataframe tbody tr th:only-of-type {\n",
       "        vertical-align: middle;\n",
       "    }\n",
       "\n",
       "    .dataframe tbody tr th {\n",
       "        vertical-align: top;\n",
       "    }\n",
       "\n",
       "    .dataframe thead th {\n",
       "        text-align: right;\n",
       "    }\n",
       "</style>\n",
       "<table border=\"1\" class=\"dataframe\">\n",
       "  <thead>\n",
       "    <tr style=\"text-align: right;\">\n",
       "      <th></th>\n",
       "      <th>Credit</th>\n",
       "      <th>Term</th>\n",
       "      <th>Income</th>\n",
       "      <th>y</th>\n",
       "    </tr>\n",
       "  </thead>\n",
       "  <tbody>\n",
       "    <tr>\n",
       "      <th>0</th>\n",
       "      <td>good</td>\n",
       "      <td>3</td>\n",
       "      <td>high</td>\n",
       "      <td>safe</td>\n",
       "    </tr>\n",
       "    <tr>\n",
       "      <th>1</th>\n",
       "      <td>fair</td>\n",
       "      <td>5</td>\n",
       "      <td>low</td>\n",
       "      <td>risky</td>\n",
       "    </tr>\n",
       "    <tr>\n",
       "      <th>2</th>\n",
       "      <td>fair</td>\n",
       "      <td>3</td>\n",
       "      <td>high</td>\n",
       "      <td>safe</td>\n",
       "    </tr>\n",
       "    <tr>\n",
       "      <th>3</th>\n",
       "      <td>poor</td>\n",
       "      <td>5</td>\n",
       "      <td>high</td>\n",
       "      <td>risky</td>\n",
       "    </tr>\n",
       "    <tr>\n",
       "      <th>4</th>\n",
       "      <td>good</td>\n",
       "      <td>3</td>\n",
       "      <td>low</td>\n",
       "      <td>risky</td>\n",
       "    </tr>\n",
       "    <tr>\n",
       "      <th>5</th>\n",
       "      <td>fair</td>\n",
       "      <td>5</td>\n",
       "      <td>low</td>\n",
       "      <td>safe</td>\n",
       "    </tr>\n",
       "    <tr>\n",
       "      <th>6</th>\n",
       "      <td>poor</td>\n",
       "      <td>3</td>\n",
       "      <td>high</td>\n",
       "      <td>risky</td>\n",
       "    </tr>\n",
       "    <tr>\n",
       "      <th>7</th>\n",
       "      <td>poor</td>\n",
       "      <td>5</td>\n",
       "      <td>low</td>\n",
       "      <td>safe</td>\n",
       "    </tr>\n",
       "    <tr>\n",
       "      <th>8</th>\n",
       "      <td>fair</td>\n",
       "      <td>3</td>\n",
       "      <td>high</td>\n",
       "      <td>safe</td>\n",
       "    </tr>\n",
       "  </tbody>\n",
       "</table>\n",
       "</div>"
      ],
      "text/plain": [
       "  Credit   Term Income      y\n",
       "0    good     3   high   safe\n",
       "1    fair     5    low  risky\n",
       "2    fair     3   high   safe\n",
       "3    poor     5   high  risky\n",
       "4    good     3    low  risky\n",
       "5    fair     5    low   safe\n",
       "6    poor     3   high  risky\n",
       "7    poor     5    low   safe\n",
       "8    fair     3   high   safe"
      ]
     },
     "execution_count": 2,
     "metadata": {},
     "output_type": "execute_result"
    }
   ],
   "source": [
    "data=pd.read_csv('https://github.com/Siriratkant/Decision-tree/raw/master/decision%20.csv')\n",
    "data"
   ]
  },
  {
   "cell_type": "code",
   "execution_count": 3,
   "metadata": {
    "scrolled": false
   },
   "outputs": [
    {
     "data": {
      "text/plain": [
       "safe     5\n",
       "risky    4\n",
       "Name: y, dtype: int64"
      ]
     },
     "execution_count": 3,
     "metadata": {},
     "output_type": "execute_result"
    }
   ],
   "source": [
    "data.y.value_counts()"
   ]
  },
  {
   "cell_type": "markdown",
   "metadata": {},
   "source": [
    "* จากตารางด้านบน ข้อมูลของเราประกอบไปด้วย   \n",
    "    * Feature มีอยู่ 3 ตัว คือ Credit,Term,Income\n",
    "    * output คือ y ซึ่งแบ่งเป็น 2 กลุ่ม คือ safe = 5 และ risky = 4  ยกตัวอย่างบรรทัดที่ 0 คือ ถ้า ลูกค้าค้ามี credit = good ประกอบกับมีระยะเวลาชำระ 3 ปี(Term =3) และยังเป็นคนที่มีรายได้สูง(Income = high) คนนี้ถือว่าเป็นคนที่ควรจะปล่อยกู้ (Safe) เป็นต้น\n",
    "    * N=9 คือเรามีข้อมูลอยู่ 9 ชุด"
   ]
  },
  {
   "cell_type": "markdown",
   "metadata": {},
   "source": [
    "#### 3.เปลี่ยนข้อมูล category เป็น dummy"
   ]
  },
  {
   "cell_type": "code",
   "execution_count": 4,
   "metadata": {
    "scrolled": true
   },
   "outputs": [
    {
     "data": {
      "text/plain": [
       "Index(['Credit ', 'Term', 'Income', 'y'], dtype='object')"
      ]
     },
     "execution_count": 4,
     "metadata": {},
     "output_type": "execute_result"
    }
   ],
   "source": [
    "data.columns"
   ]
  },
  {
   "cell_type": "code",
   "execution_count": 5,
   "metadata": {},
   "outputs": [],
   "source": [
    "a = pd.get_dummies(data['Credit '], prefix = \"Credit\") \n",
    "b = pd.get_dummies(data['Term'], prefix = \"Term\")\n",
    "c = pd.get_dummies(data['Income'], prefix = \"Income\")"
   ]
  },
  {
   "cell_type": "markdown",
   "metadata": {},
   "source": [
    "หมายเหตุ : ตรง data['Credit '] ต้องเว้นช่องว่างด้วย ปัญหาน่าจะมาจากตาราง excel"
   ]
  },
  {
   "cell_type": "code",
   "execution_count": 6,
   "metadata": {},
   "outputs": [
    {
     "data": {
      "text/html": [
       "<div>\n",
       "<style scoped>\n",
       "    .dataframe tbody tr th:only-of-type {\n",
       "        vertical-align: middle;\n",
       "    }\n",
       "\n",
       "    .dataframe tbody tr th {\n",
       "        vertical-align: top;\n",
       "    }\n",
       "\n",
       "    .dataframe thead th {\n",
       "        text-align: right;\n",
       "    }\n",
       "</style>\n",
       "<table border=\"1\" class=\"dataframe\">\n",
       "  <thead>\n",
       "    <tr style=\"text-align: right;\">\n",
       "      <th></th>\n",
       "      <th>Credit</th>\n",
       "      <th>Term</th>\n",
       "      <th>Income</th>\n",
       "      <th>y</th>\n",
       "      <th>Credit_fair</th>\n",
       "      <th>Credit_good</th>\n",
       "      <th>Credit_poor</th>\n",
       "      <th>Term_3</th>\n",
       "      <th>Term_5</th>\n",
       "      <th>Income_high</th>\n",
       "      <th>Income_low</th>\n",
       "    </tr>\n",
       "  </thead>\n",
       "  <tbody>\n",
       "    <tr>\n",
       "      <th>0</th>\n",
       "      <td>good</td>\n",
       "      <td>3</td>\n",
       "      <td>high</td>\n",
       "      <td>safe</td>\n",
       "      <td>0</td>\n",
       "      <td>1</td>\n",
       "      <td>0</td>\n",
       "      <td>1</td>\n",
       "      <td>0</td>\n",
       "      <td>1</td>\n",
       "      <td>0</td>\n",
       "    </tr>\n",
       "    <tr>\n",
       "      <th>1</th>\n",
       "      <td>fair</td>\n",
       "      <td>5</td>\n",
       "      <td>low</td>\n",
       "      <td>risky</td>\n",
       "      <td>1</td>\n",
       "      <td>0</td>\n",
       "      <td>0</td>\n",
       "      <td>0</td>\n",
       "      <td>1</td>\n",
       "      <td>0</td>\n",
       "      <td>1</td>\n",
       "    </tr>\n",
       "    <tr>\n",
       "      <th>2</th>\n",
       "      <td>fair</td>\n",
       "      <td>3</td>\n",
       "      <td>high</td>\n",
       "      <td>safe</td>\n",
       "      <td>1</td>\n",
       "      <td>0</td>\n",
       "      <td>0</td>\n",
       "      <td>1</td>\n",
       "      <td>0</td>\n",
       "      <td>1</td>\n",
       "      <td>0</td>\n",
       "    </tr>\n",
       "    <tr>\n",
       "      <th>3</th>\n",
       "      <td>poor</td>\n",
       "      <td>5</td>\n",
       "      <td>high</td>\n",
       "      <td>risky</td>\n",
       "      <td>0</td>\n",
       "      <td>0</td>\n",
       "      <td>1</td>\n",
       "      <td>0</td>\n",
       "      <td>1</td>\n",
       "      <td>1</td>\n",
       "      <td>0</td>\n",
       "    </tr>\n",
       "    <tr>\n",
       "      <th>4</th>\n",
       "      <td>good</td>\n",
       "      <td>3</td>\n",
       "      <td>low</td>\n",
       "      <td>risky</td>\n",
       "      <td>0</td>\n",
       "      <td>1</td>\n",
       "      <td>0</td>\n",
       "      <td>1</td>\n",
       "      <td>0</td>\n",
       "      <td>0</td>\n",
       "      <td>1</td>\n",
       "    </tr>\n",
       "  </tbody>\n",
       "</table>\n",
       "</div>"
      ],
      "text/plain": [
       "  Credit   Term Income      y  Credit_fair  Credit_good  Credit_poor  Term_3  \\\n",
       "0    good     3   high   safe            0            1            0       1   \n",
       "1    fair     5    low  risky            1            0            0       0   \n",
       "2    fair     3   high   safe            1            0            0       1   \n",
       "3    poor     5   high  risky            0            0            1       0   \n",
       "4    good     3    low  risky            0            1            0       1   \n",
       "\n",
       "   Term_5  Income_high  Income_low  \n",
       "0       0            1           0  \n",
       "1       1            0           1  \n",
       "2       0            1           0  \n",
       "3       1            1           0  \n",
       "4       0            0           1  "
      ]
     },
     "execution_count": 6,
     "metadata": {},
     "output_type": "execute_result"
    }
   ],
   "source": [
    "frames = [data, a, b, c]\n",
    "data = pd.concat(frames, axis = 1)\n",
    "data.head()"
   ]
  },
  {
   "cell_type": "code",
   "execution_count": 7,
   "metadata": {
    "scrolled": true
   },
   "outputs": [
    {
     "data": {
      "text/html": [
       "<div>\n",
       "<style scoped>\n",
       "    .dataframe tbody tr th:only-of-type {\n",
       "        vertical-align: middle;\n",
       "    }\n",
       "\n",
       "    .dataframe tbody tr th {\n",
       "        vertical-align: top;\n",
       "    }\n",
       "\n",
       "    .dataframe thead th {\n",
       "        text-align: right;\n",
       "    }\n",
       "</style>\n",
       "<table border=\"1\" class=\"dataframe\">\n",
       "  <thead>\n",
       "    <tr style=\"text-align: right;\">\n",
       "      <th></th>\n",
       "      <th>y</th>\n",
       "      <th>Credit_fair</th>\n",
       "      <th>Credit_good</th>\n",
       "      <th>Credit_poor</th>\n",
       "      <th>Term_3</th>\n",
       "      <th>Term_5</th>\n",
       "      <th>Income_high</th>\n",
       "      <th>Income_low</th>\n",
       "    </tr>\n",
       "  </thead>\n",
       "  <tbody>\n",
       "    <tr>\n",
       "      <th>0</th>\n",
       "      <td>safe</td>\n",
       "      <td>0</td>\n",
       "      <td>1</td>\n",
       "      <td>0</td>\n",
       "      <td>1</td>\n",
       "      <td>0</td>\n",
       "      <td>1</td>\n",
       "      <td>0</td>\n",
       "    </tr>\n",
       "    <tr>\n",
       "      <th>1</th>\n",
       "      <td>risky</td>\n",
       "      <td>1</td>\n",
       "      <td>0</td>\n",
       "      <td>0</td>\n",
       "      <td>0</td>\n",
       "      <td>1</td>\n",
       "      <td>0</td>\n",
       "      <td>1</td>\n",
       "    </tr>\n",
       "    <tr>\n",
       "      <th>2</th>\n",
       "      <td>safe</td>\n",
       "      <td>1</td>\n",
       "      <td>0</td>\n",
       "      <td>0</td>\n",
       "      <td>1</td>\n",
       "      <td>0</td>\n",
       "      <td>1</td>\n",
       "      <td>0</td>\n",
       "    </tr>\n",
       "    <tr>\n",
       "      <th>3</th>\n",
       "      <td>risky</td>\n",
       "      <td>0</td>\n",
       "      <td>0</td>\n",
       "      <td>1</td>\n",
       "      <td>0</td>\n",
       "      <td>1</td>\n",
       "      <td>1</td>\n",
       "      <td>0</td>\n",
       "    </tr>\n",
       "    <tr>\n",
       "      <th>4</th>\n",
       "      <td>risky</td>\n",
       "      <td>0</td>\n",
       "      <td>1</td>\n",
       "      <td>0</td>\n",
       "      <td>1</td>\n",
       "      <td>0</td>\n",
       "      <td>0</td>\n",
       "      <td>1</td>\n",
       "    </tr>\n",
       "    <tr>\n",
       "      <th>5</th>\n",
       "      <td>safe</td>\n",
       "      <td>1</td>\n",
       "      <td>0</td>\n",
       "      <td>0</td>\n",
       "      <td>0</td>\n",
       "      <td>1</td>\n",
       "      <td>0</td>\n",
       "      <td>1</td>\n",
       "    </tr>\n",
       "    <tr>\n",
       "      <th>6</th>\n",
       "      <td>risky</td>\n",
       "      <td>0</td>\n",
       "      <td>0</td>\n",
       "      <td>1</td>\n",
       "      <td>1</td>\n",
       "      <td>0</td>\n",
       "      <td>1</td>\n",
       "      <td>0</td>\n",
       "    </tr>\n",
       "    <tr>\n",
       "      <th>7</th>\n",
       "      <td>safe</td>\n",
       "      <td>0</td>\n",
       "      <td>0</td>\n",
       "      <td>1</td>\n",
       "      <td>0</td>\n",
       "      <td>1</td>\n",
       "      <td>0</td>\n",
       "      <td>1</td>\n",
       "    </tr>\n",
       "    <tr>\n",
       "      <th>8</th>\n",
       "      <td>safe</td>\n",
       "      <td>1</td>\n",
       "      <td>0</td>\n",
       "      <td>0</td>\n",
       "      <td>1</td>\n",
       "      <td>0</td>\n",
       "      <td>1</td>\n",
       "      <td>0</td>\n",
       "    </tr>\n",
       "  </tbody>\n",
       "</table>\n",
       "</div>"
      ],
      "text/plain": [
       "       y  Credit_fair  Credit_good  Credit_poor  Term_3  Term_5  Income_high  \\\n",
       "0   safe            0            1            0       1       0            1   \n",
       "1  risky            1            0            0       0       1            0   \n",
       "2   safe            1            0            0       1       0            1   \n",
       "3  risky            0            0            1       0       1            1   \n",
       "4  risky            0            1            0       1       0            0   \n",
       "5   safe            1            0            0       0       1            0   \n",
       "6  risky            0            0            1       1       0            1   \n",
       "7   safe            0            0            1       0       1            0   \n",
       "8   safe            1            0            0       1       0            1   \n",
       "\n",
       "   Income_low  \n",
       "0           0  \n",
       "1           1  \n",
       "2           0  \n",
       "3           0  \n",
       "4           1  \n",
       "5           1  \n",
       "6           0  \n",
       "7           1  \n",
       "8           0  "
      ]
     },
     "execution_count": 7,
     "metadata": {},
     "output_type": "execute_result"
    }
   ],
   "source": [
    "data = data.drop(columns = ['Credit ','Term', 'Income'])\n",
    "data"
   ]
  },
  {
   "cell_type": "markdown",
   "metadata": {},
   "source": [
    "## ขั้นตอนการประมาณการ"
   ]
  },
  {
   "cell_type": "markdown",
   "metadata": {},
   "source": [
    "หลังจากเตรียมข้อมูลเรียบร้อยแล้ว เราจะทำการประมารการ โดยเริ่มจาก"
   ]
  },
  {
   "cell_type": "markdown",
   "metadata": {},
   "source": [
    "#### 1. เรียกใช้ Scikit-learn "
   ]
  },
  {
   "cell_type": "code",
   "execution_count": 8,
   "metadata": {},
   "outputs": [],
   "source": [
    "from sklearn.model_selection import train_test_split\n",
    "from sklearn.tree import DecisionTreeClassifier"
   ]
  },
  {
   "cell_type": "code",
   "execution_count": 9,
   "metadata": {},
   "outputs": [
    {
     "data": {
      "text/plain": [
       "Index(['y', 'Credit_fair', 'Credit_good', 'Credit_poor', 'Term_3', 'Term_5',\n",
       "       'Income_high', 'Income_low'],\n",
       "      dtype='object')"
      ]
     },
     "execution_count": 9,
     "metadata": {},
     "output_type": "execute_result"
    }
   ],
   "source": [
    "data.columns"
   ]
  },
  {
   "cell_type": "code",
   "execution_count": 10,
   "metadata": {},
   "outputs": [],
   "source": [
    "columns =['Credit_fair', 'Credit_good', 'Credit_poor', 'Term_3', 'Term_5',\n",
    "       'Income_high', 'Income_low']"
   ]
  },
  {
   "cell_type": "markdown",
   "metadata": {},
   "source": [
    "#### 2. กำหนดตัวแปร X และ Y และทำการประมาณการ"
   ]
  },
  {
   "cell_type": "code",
   "execution_count": 11,
   "metadata": {},
   "outputs": [],
   "source": [
    "X =data[columns]\n",
    "y =data['y']"
   ]
  },
  {
   "cell_type": "code",
   "execution_count": 12,
   "metadata": {},
   "outputs": [
    {
     "data": {
      "text/plain": [
       "DecisionTreeClassifier(class_weight=None, criterion='gini', max_depth=None,\n",
       "            max_features=None, max_leaf_nodes=None,\n",
       "            min_impurity_decrease=0.0, min_impurity_split=None,\n",
       "            min_samples_leaf=1, min_samples_split=2,\n",
       "            min_weight_fraction_leaf=0.0, presort=False, random_state=2,\n",
       "            splitter='best')"
      ]
     },
     "execution_count": 12,
     "metadata": {},
     "output_type": "execute_result"
    }
   ],
   "source": [
    "model=DecisionTreeClassifier(criterion='gini',random_state=2) \n",
    "model.fit(X, y)"
   ]
  },
  {
   "cell_type": "markdown",
   "metadata": {},
   "source": [
    "* criteruion เราเลือกใช้ gini ส่วนค่าอื่นๆ เราไม่ได้กำนหนด มันจึงกำหนดตาม defult ของ library\n",
    "* กำหนด ramdom_state = ค่าไหนก็ได้ จะทำให้ในการ run แต่ละครั้งมันจะใช้ feture เดิม เสมอ ซึ่งหากไม่กำหนด(random_state =None) ในกรณีที่มีบาง feature ให้ค่า gini impurity เท่ากัน มันจะทำการสุ่ม feature ใหม่ทุกรอบ ซึ่งจะทำให้เราได้ decision tree ที่ไม่เหมือนกันเลยในทุกรอบที่ run ซึ่งนี่ถือเป็นข้อเสียของ decision tree คือ หากมีจำนวน observation เปลี่ยนไปเพียงเล็กน้อย decisiontree จะเปลี่ยนทันที การสรุปผลก็จะเปลี่ยนตามไปด้วย"
   ]
  },
  {
   "cell_type": "markdown",
   "metadata": {},
   "source": [
    "#### 3. plot graph"
   ]
  },
  {
   "cell_type": "code",
   "execution_count": 13,
   "metadata": {},
   "outputs": [],
   "source": [
    "from sklearn.externals.six import StringIO  # StringIO จะทำหน้าที่เก็บค่าจาก export_graphviz\n",
    "from sklearn.tree import export_graphviz\n",
    "import pydotplus #เอาไว้แปลงข้อมูลเพื่อที่จะได้สร้างกราฟได้\n",
    "from IPython.display import Image  "
   ]
  },
  {
   "cell_type": "code",
   "execution_count": 14,
   "metadata": {
    "scrolled": false
   },
   "outputs": [
    {
     "data": {
      "image/png": "[encoded data removed]",
      "text/plain": [
       "<IPython.core.display.Image object>"
      ]
     },
     "execution_count": 14,
     "metadata": {},
     "output_type": "execute_result"
    }
   ],
   "source": [
    "dot_data = StringIO() #สร้าง object ชื่อ dot_data และให้เท่ากับ StringIO\n",
    "export_graphviz(model, out_file=dot_data,  #.ใส่ค่าลงไป โดยอันแรกเราก็จะใส่ model ที่เป็น object ที่เก็บค่าการประมาณการของเราไว้ และ \n",
    "                feature_names=columns, #คือ feature ที่เรามี \n",
    "                filled=True, rounded=True,  \n",
    "                special_characters= True ) #เช่นพวกค่าน้อยกว่าหรือเท่ากับ\n",
    "\n",
    "graph = pydotplus.graph_from_dot_data(dot_data.getvalue()) #สร้าง object ชื่อ graph เพื่อใส่คำสั่ง pydotplus ซึ่งเป็นคำสั่งในการ พล็อตรูป\n",
    "Image(graph.create_png()) #และเราก็ใส่คำสั่ง Imageให้มันพล็อตกราฟที่เราสร้างไว้ให้ออกมาในรูป .png \n",
    "\n",
    "# อ่านคำสั่งเพิ่มเติมได้ที่ :  https://scikit-learn.org/stable/modules/generated/sklearn.tree.export_graphviz.html"
   ]
  },
  {
   "cell_type": "code",
   "execution_count": 15,
   "metadata": {},
   "outputs": [
    {
     "data": {
      "text/plain": [
       "True"
      ]
     },
     "execution_count": 15,
     "metadata": {},
     "output_type": "execute_result"
    }
   ],
   "source": [
    "graph.write_png('decision tree.png')"
   ]
  }
 ],
 "metadata": {
  "kernelspec": {
   "display_name": "Python 3",
   "language": "python",
   "name": "python3"
  },
  "language_info": {
   "codemirror_mode": {
    "name": "ipython",
    "version": 3
   },
   "file_extension": ".py",
   "mimetype": "text/x-python",
   "name": "python",
   "nbconvert_exporter": "python",
   "pygments_lexer": "ipython3",
   "version": "3.7.3"
  }
 },
 "nbformat": 4,
 "nbformat_minor": 2
}
